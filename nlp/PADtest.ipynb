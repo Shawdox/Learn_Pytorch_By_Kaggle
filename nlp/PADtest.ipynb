{
 "cells": [
  {
   "cell_type": "code",
   "execution_count": 17,
   "metadata": {},
   "outputs": [
    {
     "data": {
      "text/html": [
       "<div>\n",
       "<style scoped>\n",
       "    .dataframe tbody tr th:only-of-type {\n",
       "        vertical-align: middle;\n",
       "    }\n",
       "\n",
       "    .dataframe tbody tr th {\n",
       "        vertical-align: top;\n",
       "    }\n",
       "\n",
       "    .dataframe thead th {\n",
       "        text-align: right;\n",
       "    }\n",
       "</style>\n",
       "<table border=\"1\" class=\"dataframe\">\n",
       "  <thead>\n",
       "    <tr style=\"text-align: right;\">\n",
       "      <th></th>\n",
       "      <th>A</th>\n",
       "      <th>B</th>\n",
       "      <th>C</th>\n",
       "      <th>D</th>\n",
       "      <th>E</th>\n",
       "    </tr>\n",
       "  </thead>\n",
       "  <tbody>\n",
       "    <tr>\n",
       "      <th>2022-11-04</th>\n",
       "      <td>1</td>\n",
       "      <td>2</td>\n",
       "      <td>3</td>\n",
       "      <td>4</td>\n",
       "      <td>5</td>\n",
       "    </tr>\n",
       "    <tr>\n",
       "      <th>2022-11-05</th>\n",
       "      <td>11</td>\n",
       "      <td>22</td>\n",
       "      <td>33</td>\n",
       "      <td>44</td>\n",
       "      <td>55</td>\n",
       "    </tr>\n",
       "    <tr>\n",
       "      <th>2022-11-06</th>\n",
       "      <td>111</td>\n",
       "      <td>222</td>\n",
       "      <td>333</td>\n",
       "      <td>444</td>\n",
       "      <td>555</td>\n",
       "    </tr>\n",
       "  </tbody>\n",
       "</table>\n",
       "</div>"
      ],
      "text/plain": [
       "              A    B    C    D    E\n",
       "2022-11-04    1    2    3    4    5\n",
       "2022-11-05   11   22   33   44   55\n",
       "2022-11-06  111  222  333  444  555"
      ]
     },
     "execution_count": 17,
     "metadata": {},
     "output_type": "execute_result"
    }
   ],
   "source": [
    "import pandas as pd\n",
    "import numpy as np\n",
    "\n",
    "data1 = [[1,2,3,4,5],[11,22,33,44,55],[111,222,333,444,555]]\n",
    "data_range1=pd.date_range(start='20221104',periods = 3)\n",
    "df1 = pd.DataFrame(data=data1,index = data_range1,columns=['A','B','C','D','E'])\n",
    "df1"
   ]
  },
  {
   "cell_type": "code",
   "execution_count": 15,
   "metadata": {},
   "outputs": [
    {
     "data": {
      "text/plain": [
       "2022-11-04    12\n",
       "2022-11-05    23\n",
       "2022-11-06    34\n",
       "2022-11-07    45\n",
       "2022-11-08    56\n",
       "2022-11-09    67\n",
       "Freq: D, Name: F, dtype: int64"
      ]
     },
     "execution_count": 15,
     "metadata": {},
     "output_type": "execute_result"
    }
   ],
   "source": [
    "data2=[12,23,34,45,56,67]\n",
    "date_range2 = pd.date_range(start='20221104', periods=len(data2))\n",
    "df2 = pd.Series(data=data2,index=date_range2,name = 'F')\n",
    "df2"
   ]
  },
  {
   "cell_type": "code",
   "execution_count": 26,
   "metadata": {},
   "outputs": [
    {
     "name": "stdout",
     "output_type": "stream",
     "text": [
      "                A      B      C      D      E   F\n",
      "2022-11-04    1.0    2.0    3.0    4.0    5.0  12\n",
      "2022-11-05   11.0   22.0   33.0   44.0   55.0  23\n",
      "2022-11-06  111.0  222.0  333.0  444.0  555.0  34\n",
      "2022-11-07    NaN    NaN    NaN    NaN    NaN  45\n",
      "2022-11-08    NaN    NaN    NaN    NaN    NaN  56\n",
      "2022-11-09    NaN    NaN    NaN    NaN    NaN  67\n",
      "                A      B      C      D      E     0\n",
      "2022-11-04    1.0    2.0    3.0    4.0    5.0   NaN\n",
      "2022-11-05   11.0   22.0   33.0   44.0   55.0   NaN\n",
      "2022-11-06  111.0  222.0  333.0  444.0  555.0   NaN\n",
      "2022-11-04    NaN    NaN    NaN    NaN    NaN  12.0\n",
      "2022-11-05    NaN    NaN    NaN    NaN    NaN  23.0\n",
      "2022-11-06    NaN    NaN    NaN    NaN    NaN  34.0\n",
      "2022-11-07    NaN    NaN    NaN    NaN    NaN  45.0\n",
      "2022-11-08    NaN    NaN    NaN    NaN    NaN  56.0\n",
      "2022-11-09    NaN    NaN    NaN    NaN    NaN  67.0\n"
     ]
    }
   ],
   "source": [
    "print(pd.concat([df1,df2],axis=1))\n",
    "print(pd.concat([df1,df2],axis=0))"
   ]
  },
  {
   "cell_type": "code",
   "execution_count": null,
   "metadata": {},
   "outputs": [],
   "source": []
  }
 ],
 "metadata": {
  "interpreter": {
   "hash": "07efdcd4b820c98a756949507a4d29d7862823915ec7477944641bea022f4f62"
  },
  "kernelspec": {
   "display_name": "Python 3.9.7 ('base')",
   "language": "python",
   "name": "python3"
  },
  "language_info": {
   "codemirror_mode": {
    "name": "ipython",
    "version": 3
   },
   "file_extension": ".py",
   "mimetype": "text/x-python",
   "name": "python",
   "nbconvert_exporter": "python",
   "pygments_lexer": "ipython3",
   "version": "3.9.7"
  },
  "orig_nbformat": 4
 },
 "nbformat": 4,
 "nbformat_minor": 2
}
